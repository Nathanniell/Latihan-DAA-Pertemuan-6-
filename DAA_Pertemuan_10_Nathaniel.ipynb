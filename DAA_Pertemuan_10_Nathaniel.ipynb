{
  "nbformat": 4,
  "nbformat_minor": 0,
  "metadata": {
    "colab": {
      "provenance": []
    },
    "kernelspec": {
      "name": "python3",
      "display_name": "Python 3"
    },
    "language_info": {
      "name": "python"
    }
  },
  "cells": [
    {
      "cell_type": "code",
      "execution_count": 19,
      "metadata": {
        "colab": {
          "base_uri": "https://localhost:8080/"
        },
        "id": "8odIGY2Jm-oI",
        "outputId": "d8b02dcd-9af7-480e-a769-1f1418fadd72"
      },
      "outputs": [
        {
          "output_type": "stream",
          "name": "stdout",
          "text": [
            "Requirement already satisfied: pulp in /usr/local/lib/python3.10/dist-packages (2.7.0)\n"
          ]
        }
      ],
      "source": [
        "pip install pulp\n"
      ]
    },
    {
      "cell_type": "code",
      "source": [],
      "metadata": {
        "id": "E-gAyi8Mttn9"
      },
      "execution_count": 19,
      "outputs": []
    },
    {
      "cell_type": "code",
      "source": [],
      "metadata": {
        "id": "Lk_4VduSt2th"
      },
      "execution_count": 19,
      "outputs": []
    },
    {
      "cell_type": "code",
      "source": [],
      "metadata": {
        "id": "HYkNInBRuOKK"
      },
      "execution_count": 19,
      "outputs": []
    },
    {
      "cell_type": "code",
      "source": [],
      "metadata": {
        "id": "dRrcWChjuvcn"
      },
      "execution_count": 19,
      "outputs": []
    },
    {
      "cell_type": "code",
      "source": [],
      "metadata": {
        "id": "u5vCF9lbvjzs"
      },
      "execution_count": 19,
      "outputs": []
    },
    {
      "cell_type": "code",
      "source": [
        "import pulp\n",
        "\n",
        "# Buat masalah pemrograman linier\n",
        "model = pulp.LpProblem(\"Maximize_Profit\", pulp.LpMaximize)\n",
        "\n",
        "# Tentukan variabel keputusan\n",
        "A = pulp.LpVariable(\"A\", lowBound=0, cat=\"Integer\")\n",
        "B = pulp.LpVariable(\"B\", lowBound=0, cat=\"Integer\")\n",
        "\n",
        "# Tentukan fungsi objektif\n",
        "model += 4200 * A + 2800 * B, \"Keuntungan\"\n",
        "\n",
        "# Tentukan batasan-batasan\n",
        "model += 3 * A + 2 * B <= 20, \"Teknisi\"\n",
        "model += 4 * A + 3 * B <= 30, \"Spesialis_AI\"\n",
        "model += 4 * A + 3 * B <= 44, \"Engineer\"\n",
        "\n",
        "# Selesaikan masalah\n",
        "model.solve()\n",
        "pulp.LpStatus[model.status]\n",
        "\n",
        "# Tampilkan hasil\n",
        "print(\"Jumlah robot canggih (A):\", pulp.value(A))\n",
        "print(\"Jumlah robot dasar (B):\", pulp.value(B))\n",
        "print(\"Keuntungan maksimum:\", pulp.value(model.objective))"
      ],
      "metadata": {
        "colab": {
          "base_uri": "https://localhost:8080/"
        },
        "id": "FLEvWVXZtZ4h",
        "outputId": "2319d688-ee7d-42c2-cbbf-0cf6bcbbe7f5"
      },
      "execution_count": 30,
      "outputs": [
        {
          "output_type": "stream",
          "name": "stdout",
          "text": [
            "Jumlah robot canggih (A): 6.0\n",
            "Jumlah robot dasar (B): 1.0\n",
            "Keuntungan maksimum: 28000.0\n"
          ]
        }
      ]
    },
    {
      "cell_type": "code",
      "source": [
        "\n",
        "print (A.varValue)\n",
        "print (B.varValue)"
      ],
      "metadata": {
        "colab": {
          "base_uri": "https://localhost:8080/"
        },
        "id": "f74TbcodwIt3",
        "outputId": "b9d1c2b7-75e4-48ad-f588-b94443923d7c"
      },
      "execution_count": 21,
      "outputs": [
        {
          "output_type": "stream",
          "name": "stdout",
          "text": [
            "6.0\n",
            "1.0\n"
          ]
        }
      ]
    },
    {
      "cell_type": "code",
      "source": [
        "\n",
        "print (pulp.value(model.objective))"
      ],
      "metadata": {
        "colab": {
          "base_uri": "https://localhost:8080/"
        },
        "id": "oYMpKEvmwtXw",
        "outputId": "9d08ff81-aadc-4d30-9a45-abb56cc9f66e"
      },
      "execution_count": 22,
      "outputs": [
        {
          "output_type": "stream",
          "name": "stdout",
          "text": [
            "32500.0\n"
          ]
        }
      ]
    },
    {
      "cell_type": "code",
      "source": [
        "# 4x + 3y = 34\n",
        "import pulp\n",
        "\n",
        "# Membuat objek masalah optimasi\n",
        "model = pulp.LpProblem(name=\"Pemecahan_Persamaan\", sense=pulp.LpMinimize)\n",
        "\n",
        "#Membuat variable x dan y\n",
        "x = pulp.LpVariable(name=\"x\")\n",
        "y = pulp.LpVariable(name=\"y\")\n",
        "\n",
        "# Menambahkan Batasan\n",
        "model += 4 * x + 3 * y == 34\n",
        "\n",
        "# Menyelesaikan Masalah\n",
        "model.solve()\n",
        "\n",
        "# Menampilkan Hasil\n",
        "print(\"Status:\", model.status)\n",
        "print(\"Nilai x =\", x.varValue)\n",
        "print(\"Nilai y =\", y.varValue)"
      ],
      "metadata": {
        "colab": {
          "base_uri": "https://localhost:8080/"
        },
        "id": "cEK5PkWOyDmQ",
        "outputId": "8475e64c-2540-4b9b-d8a1-9189034e5f9a"
      },
      "execution_count": 34,
      "outputs": [
        {
          "output_type": "stream",
          "name": "stdout",
          "text": [
            "Status: 1\n",
            "Nilai x = 8.5\n",
            "Nilai y = 0.0\n"
          ]
        }
      ]
    },
    {
      "cell_type": "code",
      "source": [
        "# 5x + y = 37\n",
        "import pulp\n",
        "\n",
        "# Membuat objek masalah optimasi\n",
        "model = pulp.LpProblem(name=\"Pemecahan_Persamaan\", sense=pulp.LpMinimize)\n",
        "\n",
        "#Membuat variable x dan y\n",
        "x = pulp.LpVariable(name=\"x\")\n",
        "y = pulp.LpVariable(name=\"y\")\n",
        "\n",
        "# Menambahkan Batasan\n",
        "model += 5 * x + y  == 37\n",
        "\n",
        "# Menyelesaikan Masalah\n",
        "model.solve()\n",
        "\n",
        "# Menampilkan Hasil\n",
        "print(\"Status:\", model.status)\n",
        "print(\"Nilai x =\", x.varValue)\n",
        "print(\"Nilai y =\", y.varValue)"
      ],
      "metadata": {
        "colab": {
          "base_uri": "https://localhost:8080/"
        },
        "id": "aEJhP7M70vUq",
        "outputId": "c9f1d852-1422-4154-d81f-b11ccf05f953"
      },
      "execution_count": 36,
      "outputs": [
        {
          "output_type": "stream",
          "name": "stdout",
          "text": [
            "Status: 1\n",
            "Nilai x = 7.4\n",
            "Nilai y = 0.0\n"
          ]
        }
      ]
    },
    {
      "cell_type": "code",
      "source": [
        "# SOAL BUDI\n",
        "import pulp\n",
        "\n",
        "# membuat objek masalah optimasi\n",
        "model = pulp.LpProblem(name=\"PemecahanBudi\", sense=pulp.LpMinimize)\n",
        "\n",
        "# membuat variable x dan y\n",
        "p = pulp.LpVariable(name=\"p\")\n",
        "b = pulp.LpVariable(name=\"b\")\n",
        "\n",
        "# menambahkan batasan\n",
        "model += 2 * p + 6 * b == 15.000\n",
        "\n",
        "# menyelesaikan masalah\n",
        "model.solve()\n",
        "\n",
        "# menampilkan hasil\n",
        "print(\"Status:\", model.status)\n",
        "print(\"Nilai p =\", p.varValue)\n",
        "print(\"Nilai b =\", b.varValue)"
      ],
      "metadata": {
        "colab": {
          "base_uri": "https://localhost:8080/"
        },
        "id": "8inCzOua1f8-",
        "outputId": "d743ec62-7324-470b-f034-f02ba1761db2"
      },
      "execution_count": 37,
      "outputs": [
        {
          "output_type": "stream",
          "name": "stdout",
          "text": [
            "Status: 1\n",
            "Nilai p = 0.0\n",
            "Nilai b = 2.5\n"
          ]
        }
      ]
    },
    {
      "cell_type": "code",
      "source": [
        "import pulp\n",
        "\n",
        "# Inisialisasi masalah linier\n",
        "prob = pulp.LpProblem(\"Budi\", pulp.LpMinimize)\n",
        "\n",
        "# Variabel keputusan\n",
        "pensil = pulp.LpVariable(\"Pensil\", lowBound=0, cat='Integer')\n",
        "buku = pulp.LpVariable(\"Buku\", lowBound=0, cat='Integer')\n",
        "\n",
        "# Fungsi tujuan\n",
        "prob += 2*pensil + 6*buku, \"Total_Harga\"\n",
        "\n",
        "# Batasan\n",
        "prob += 3*pensil + 4*buku == 11000, \"Kebutuhan1\"\n",
        "prob += pensil + 7*buku == 15000, \"Kebutuhan2\"\n",
        "\n",
        "# Penyelesaian masalah\n",
        "prob.solve()\n",
        "\n",
        "# Output hasil\n",
        "print(f\"Status: {pulp.LpStatus[prob.status]}\")\n",
        "print(f\"Harga dua pensil dan enam buku: Rp {pulp.value(pensil)*2 + pulp.value(buku)*6}\")"
      ],
      "metadata": {
        "colab": {
          "base_uri": "https://localhost:8080/"
        },
        "id": "z4ZEY-kjCw_W",
        "outputId": "9e4e9756-824d-4b88-9c76-5795ed06669a"
      },
      "execution_count": 38,
      "outputs": [
        {
          "output_type": "stream",
          "name": "stdout",
          "text": [
            "Status: Optimal\n",
            "Harga dua pensil dan enam buku: Rp 14000.0\n"
          ]
        }
      ]
    },
    {
      "cell_type": "code",
      "source": [
        "#latihan soal cerita 2\n",
        "model = pulp.LpProblem(\"KelilingPersegiPanjang\", pulp.LpMaximize)\n",
        "X = pulp.LpVariable('X', lowBound=0, cat='Integer')\n",
        "Y = pulp.LpVariable('Y', lowBound=0, cat='Integer')\n",
        "\n",
        "model += 2 * X + 2 * Y, 'Keliling'\n",
        "\n",
        "model += 2 * X + 2 * Y == 44\n",
        "model += 2 * X + 2 * (X - 6) == 44\n",
        "\n",
        "model.solve()\n",
        "pulp.LpStatus[model.status]\n",
        "\n",
        "print (X.varValue)\n",
        "print (Y.varValue)\n",
        "print (pulp.value(model.objective))"
      ],
      "metadata": {
        "colab": {
          "base_uri": "https://localhost:8080/"
        },
        "id": "UW_edb1KC6iR",
        "outputId": "d2ed3157-b7bf-4ded-fade-2ce4378d0b07"
      },
      "execution_count": 39,
      "outputs": [
        {
          "output_type": "stream",
          "name": "stdout",
          "text": [
            "14.0\n",
            "8.0\n",
            "44.0\n"
          ]
        }
      ]
    },
    {
      "cell_type": "code",
      "source": [
        "# 1. Impor modul yang diperlukan dari SciPy\n",
        "from scipy.optimize import linprog\n",
        "\n",
        "# 2. Tentukan koefisien fungsi tujuan dan matriks batasan\n",
        "\n",
        "# Koefisien fungsi tujuan (z = 5x1 + 7x2)\n",
        "c = [-5, -7] # Karena kita ingin \"maksimalkan\" -5x1 -7x2, maka perlu diubah menjadi \"-5\" dan \"-7\".\n",
        "\n",
        "# Koefisien matriks batasan\n",
        "A = [\n",
        "    [1, 0], # 1x1 + 0x2 <= 16\n",
        "    [2, 3], # 2x1 + 3x2 <= 19\n",
        "    [1, 1]  # 1x1 + 1x2 <= 8\n",
        "]\n",
        "\n",
        "# Batasan kanan (rhs) dari masing-masing batasan\n",
        "b = [16, 19, 8]\n",
        "\n",
        "# 3. tentukan batasan variabel x1 dan x2 sebagai variabel non-negatif\n",
        "x1_bounds = (0, None) # x1 >= 0\n",
        "x2_bounds = (0, None) # x2 >= 0\n",
        "\n",
        "# 4. Gunakan linprog untuk menyelesaikan masalah pemrograman linier\n",
        "result = linprog(c, A_ub=A, b_ub=b, bounds=[x1_bounds, x2_bounds], method=\"highs\")\n",
        "\n",
        "# 5. Tampilkan hasilnya\n",
        "# Hasil optimasi\n",
        "print(\"Optimal Solution:\")\n",
        "print(\"x1 =\", result.x[0])\n",
        "print(\"x2 =\", result.x[1])\n",
        "print(\"Max Z =\", -result.fun) # Karena tujuannya adalah memaksimalkan -Z"
      ],
      "metadata": {
        "colab": {
          "base_uri": "https://localhost:8080/"
        },
        "id": "VmwXQaO_D3LW",
        "outputId": "bbf36d0e-ac6c-48a5-a01d-931795cabc4a"
      },
      "execution_count": 40,
      "outputs": [
        {
          "output_type": "stream",
          "name": "stdout",
          "text": [
            "Optimal Solution:\n",
            "x1 = 5.0\n",
            "x2 = 3.0\n",
            "Max Z = 46.0\n"
          ]
        }
      ]
    },
    {
      "cell_type": "code",
      "source": [
        "from scipy.optimize import linprog\n",
        "#latihan dengan scipy\n",
        "#1\n",
        "\n",
        "# Fungsi objektif untuk mencari nilai x dan y\n",
        "c = [-1, -1]  # Karena linprog mencari minimum, kita gunakan koefisien -1 untuk mencari nilai maksimum dari -x dan -y.\n",
        "\n",
        "# Batasan persamaan\n",
        "A_eq = [[4, 12]]  # Matriks koefisien persamaan\n",
        "b_eq = [28]  # Hasil dari persamaan\n",
        "\n",
        "# Batasan variabel\n",
        "x_bounds = (0, None)\n",
        "y_bounds = (0, None)\n",
        "\n",
        "# Solusi pemrograman linear\n",
        "result = linprog(c, A_eq=A_eq, b_eq=b_eq, bounds=[x_bounds, y_bounds])\n",
        "\n",
        "if result.success:\n",
        "    x, y = result.x\n",
        "    max_value = -result.fun  # Kita mengambil nilai maksimum dari -x dan -y.\n",
        "\n",
        "    print(\"Nilai x:\", x)\n",
        "    print(\"Nilai y:\", y)\n",
        "    print(\"Nilai maksimum (x + y):\", max_value)\n",
        "else:\n",
        "    print(\"Tidak ada solusi optimal yang ditemukan.\")"
      ],
      "metadata": {
        "colab": {
          "base_uri": "https://localhost:8080/"
        },
        "id": "3q-_5rGpEJDi",
        "outputId": "464ce662-c614-4e6a-aa3f-207ce33f30aa"
      },
      "execution_count": 41,
      "outputs": [
        {
          "output_type": "stream",
          "name": "stdout",
          "text": [
            "Nilai x: 7.0\n",
            "Nilai y: 0.0\n",
            "Nilai maksimum (x + y): 7.0\n"
          ]
        }
      ]
    },
    {
      "cell_type": "code",
      "source": [
        "from scipy.optimize import linprog\n",
        "#latihan dengan scipy\n",
        "#1\n",
        "\n",
        "# Fungsi objektif untuk mencari nilai x dan y\n",
        "c = [-1, -1]  # Karena linprog mencari minimum, kita gunakan koefisien -1 untuk mencari nilai maksimum dari -x dan -y.\n",
        "\n",
        "# Batasan persamaan\n",
        "A_eq = [[4, 12]]  # Matriks koefisien persamaan\n",
        "b_eq = [28]  # Hasil dari persamaan\n",
        "\n",
        "# Batasan variabel\n",
        "x_bounds = (0, None)\n",
        "y_bounds = (0, None)\n",
        "\n",
        "# Solusi pemrograman linear\n",
        "result = linprog(c, A_eq=A_eq, b_eq=b_eq, bounds=[x_bounds, y_bounds])\n",
        "\n",
        "if result.success:\n",
        "    x, y = result.x\n",
        "    max_value = -result.fun  # Kita mengambil nilai maksimum dari -x dan -y.\n",
        "\n",
        "    print(\"Nilai x:\", x)\n",
        "    print(\"Nilai y:\", y)\n",
        "    print(\"Nilai maksimum (x + y):\", max_value)\n",
        "else:\n",
        "    print(\"Tidak ada solusi optimal yang ditemukan.\")"
      ],
      "metadata": {
        "colab": {
          "base_uri": "https://localhost:8080/"
        },
        "id": "Emnm6ajeG-lA",
        "outputId": "67b5566d-77c5-4879-8aff-b95a91110661"
      },
      "execution_count": 42,
      "outputs": [
        {
          "output_type": "stream",
          "name": "stdout",
          "text": [
            "Nilai x: 7.0\n",
            "Nilai y: 0.0\n",
            "Nilai maksimum (x + y): 7.0\n"
          ]
        }
      ]
    },
    {
      "cell_type": "code",
      "source": [
        "from scipy.optimize import linprog\n",
        "#latihan dengan scipy\n",
        "#3\n",
        "# Fungsi objektif (karena linprog mencari minimum, kita perlu mengubah tanda)\n",
        "c = [-3, -4]\n",
        "\n",
        "# Batasan-batasan\n",
        "A = [\n",
        "    [-3, -4],\n",
        "    [-1, -1]\n",
        "]\n",
        "\n",
        "b = [-55, -16]\n",
        "\n",
        "# Batasan variabel\n",
        "L_bounds = (0, None)\n",
        "M_bounds = (0, None)\n",
        "\n",
        "# Solusi pemrograman linear\n",
        "result = linprog(c, A_ub=A, b_ub=b, bounds=[L_bounds, M_bounds])\n",
        "\n",
        "if result.success:\n",
        "    L, M = result.x\n",
        "    min_value = result.fun\n",
        "\n",
        "    print(\"Jam kerja Lisa (L):\", L)\n",
        "    print(\"Jam kerja Muri (M):\", M)\n",
        "    print(\"Nilai minimum:\", min_value)\n",
        "else:\n",
        "    print(\"Tidak ada solusi optimal yang ditemukan.\")"
      ],
      "metadata": {
        "colab": {
          "base_uri": "https://localhost:8080/"
        },
        "id": "E3H_vh1fHFJe",
        "outputId": "d5c0a170-7478-4b39-f13b-ea06b2822d0a"
      },
      "execution_count": 43,
      "outputs": [
        {
          "output_type": "stream",
          "name": "stdout",
          "text": [
            "Tidak ada solusi optimal yang ditemukan.\n"
          ]
        }
      ]
    }
  ]
}