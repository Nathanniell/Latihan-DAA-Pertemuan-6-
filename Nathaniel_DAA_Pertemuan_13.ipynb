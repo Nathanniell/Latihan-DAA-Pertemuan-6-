{
  "nbformat": 4,
  "nbformat_minor": 0,
  "metadata": {
    "colab": {
      "provenance": []
    },
    "kernelspec": {
      "name": "python3",
      "display_name": "Python 3"
    },
    "language_info": {
      "name": "python"
    }
  },
  "cells": [
    {
      "cell_type": "code",
      "execution_count": 34,
      "metadata": {
        "id": "uFq1bZpIq-6-"
      },
      "outputs": [],
      "source": [
        "def bfs(graph,start):\n",
        "  visited=[]\n",
        "  queue = []\n",
        "  queue = [start]\n",
        "  while queue:\n",
        "    node = queue.pop(0)\n",
        "    if node not in visited:\n",
        "      visited.append(node)\n",
        "      neighbours = graph[node]\n",
        "      for neighbour in neighbours:\n",
        "        queue.append(neighbour)\n",
        "  return visited"
      ]
    },
    {
      "cell_type": "code",
      "source": [
        "graph = {'Amin' : ['Wasim', 'Nick', 'Mike'],\n",
        "         'Wasim' : ['Imran', 'Amin'],\n",
        "         'Imran' : ['Wasim', 'Faras'],\n",
        "         'Faras' : ['Imran'],\n",
        "         'Mike' : ['Amin'],\n",
        "         'Nick' : ['Amin']\n",
        "         }"
      ],
      "metadata": {
        "id": "SKQcPUAis0k4"
      },
      "execution_count": 35,
      "outputs": []
    },
    {
      "cell_type": "code",
      "source": [
        "# 0 Amin -----------\n",
        "#     |       |       |\n",
        "# 0 Wasim  0 Nick  0 Mike\n",
        "# |\n",
        "# 0 Imran\n",
        "# |\n",
        "# 0 Faras\n",
        "\n",
        "bfs(graph,'Amin')"
      ],
      "metadata": {
        "colab": {
          "base_uri": "https://localhost:8080/"
        },
        "id": "I-UwmnmTt-sp",
        "outputId": "2ad61a91-72e2-459f-8565-25d860d492b3"
      },
      "execution_count": 36,
      "outputs": [
        {
          "output_type": "execute_result",
          "data": {
            "text/plain": [
              "['Amin', 'Wasim', 'Nick', 'Mike', 'Imran', 'Faras']"
            ]
          },
          "metadata": {},
          "execution_count": 36
        }
      ]
    },
    {
      "cell_type": "code",
      "source": [
        "# 0 Amin -----------\n",
        "#     |       |       |\n",
        "# 0 Wasim  0 Nick  0 Mike\n",
        "# |\n",
        "# 0 Imran\n",
        "# |\n",
        "# 0 Faras\n",
        "\n",
        "bfs(graph,'Wasim')"
      ],
      "metadata": {
        "colab": {
          "base_uri": "https://localhost:8080/"
        },
        "id": "oUAehAdkvV-k",
        "outputId": "b51cd493-0e0a-41eb-8502-8aff8666c8ad"
      },
      "execution_count": 37,
      "outputs": [
        {
          "output_type": "execute_result",
          "data": {
            "text/plain": [
              "['Wasim', 'Imran', 'Amin', 'Faras', 'Nick', 'Mike']"
            ]
          },
          "metadata": {},
          "execution_count": 37
        }
      ]
    },
    {
      "cell_type": "code",
      "source": [
        "# 0 Amin -----------\n",
        "#     |       |       |\n",
        "# 0 Wasim  0 Nick  0 Mike\n",
        "# |\n",
        "# 0 Imran\n",
        "# |\n",
        "# 0 Faras\n",
        "\n",
        "bfs(graph,'Mike')"
      ],
      "metadata": {
        "colab": {
          "base_uri": "https://localhost:8080/"
        },
        "id": "mdAUsgCKvNjj",
        "outputId": "4ba6a7b2-a1f1-41ff-e598-19e95ba81d0e"
      },
      "execution_count": 38,
      "outputs": [
        {
          "output_type": "execute_result",
          "data": {
            "text/plain": [
              "['Mike', 'Amin', 'Wasim', 'Nick', 'Imran', 'Faras']"
            ]
          },
          "metadata": {},
          "execution_count": 38
        }
      ]
    },
    {
      "cell_type": "code",
      "source": [
        "\n",
        "graph={'Rektor' : {'Warek1', 'Warek2'},\n",
        "       'Warek1' : {'Rektor'},\n",
        "       'Warek2' : {'Rektor','Kaprodi1', 'Kaprodi2','Kaprodi3'},\n",
        "       'Kaprodi1' : {'Warek2','Dosen A','Dosen B','Dosen C'},\n",
        "       'Dosen A' : {'Kaprodi1'},\n",
        "       'Dosen B' : {'Kaprodi1'},\n",
        "       'Dosen C' : {'Kaprodi1'},\n",
        "       'Kaprodi2' : {'Warek2','Dosen D','Dosen E'},\n",
        "       'Dosen D' : {'Kaprodi2'},\n",
        "       'Dosen E' : {'Kaprodi2'},\n",
        "       'Kaprodi3' : {'Warek2','Dosen F','Dosen G'},\n",
        "       'Dosen F': {'Kaprodi3'},\n",
        "       'Dosen G' : {'Kaprodi3'}}\n",
        "\n"
      ],
      "metadata": {
        "id": "ZcquxDVjv1jc"
      },
      "execution_count": 39,
      "outputs": []
    },
    {
      "cell_type": "code",
      "source": [
        "bfs(graph,'Rektor')"
      ],
      "metadata": {
        "colab": {
          "base_uri": "https://localhost:8080/"
        },
        "id": "QXlia5BHydE5",
        "outputId": "e3b9f160-d64a-40e1-bea1-5838b9586981"
      },
      "execution_count": 40,
      "outputs": [
        {
          "output_type": "execute_result",
          "data": {
            "text/plain": [
              "['Rektor',\n",
              " 'Warek1',\n",
              " 'Warek2',\n",
              " 'Kaprodi2',\n",
              " 'Kaprodi3',\n",
              " 'Kaprodi1',\n",
              " 'Dosen E',\n",
              " 'Dosen D',\n",
              " 'Dosen F',\n",
              " 'Dosen G',\n",
              " 'Dosen A',\n",
              " 'Dosen B',\n",
              " 'Dosen C']"
            ]
          },
          "metadata": {},
          "execution_count": 40
        }
      ]
    },
    {
      "cell_type": "code",
      "source": [
        "# DEPTH-FIRST SEARCH\n",
        "def dfs(visited, graph, node):\n",
        "  if node not in visited:\n",
        "    print(node)\n",
        "    visited.add(node)\n",
        "    for neighbour in graph[node]:\n",
        "      dfs(visited, graph, neighbour)"
      ],
      "metadata": {
        "id": "C45t9jIzzQcn"
      },
      "execution_count": 41,
      "outputs": []
    },
    {
      "cell_type": "code",
      "source": [
        "def dfs(graph, start, visited=None):\n",
        "  if visited is None:\n",
        "    visited = set()\n",
        "  visited.add(start)\n",
        "  print(start)\n",
        "  for next in graph[start] - visited:\n",
        "    dfs(graph, next, visited)\n",
        "  return visited\n",
        ""
      ],
      "metadata": {
        "id": "FuCwFHrCH5z6"
      },
      "execution_count": 42,
      "outputs": []
    },
    {
      "cell_type": "code",
      "source": [
        "graph={'Amin' : ['Wasim', 'Nick', 'Mike'],\n",
        "       'Wasim' : ['Imran', 'Amin'],\n",
        "       'Imran' : ['Wasim','Faras'],\n",
        "       'Faras' : ['Imran'],\n",
        "       'Mike' : ['Amin'],\n",
        "       'Nick' : ['Amin']}"
      ],
      "metadata": {
        "id": "6Jj7za_Bz0i4"
      },
      "execution_count": 43,
      "outputs": []
    },
    {
      "cell_type": "code",
      "source": [
        "graph3 = {'0' : ['9', '7', '11'],\n",
        "          '1' : ['10', '8'],\n",
        "          '2' : ['12', '3'],\n",
        "          '3' : ['2', '4', '7'],\n",
        "          '4' : ['3'],\n",
        "          '5' : ['6'],\n",
        "          '6' : ['5', '7'],\n",
        "          '7' : ['3', '6', '11', '0'],\n",
        "          '8' : ['9', '1', '12'],\n",
        "          '9' : ['10', '8', '0'],\n",
        "          '10' : ['1', '9'],\n",
        "          '11' : ['0', '7'],\n",
        "          '12' : ['8', '2']\n",
        "          }"
      ],
      "metadata": {
        "id": "tmOqE3dVGOqQ"
      },
      "execution_count": 52,
      "outputs": []
    },
    {
      "cell_type": "code",
      "source": [
        "bfs(graph3, '0')"
      ],
      "metadata": {
        "colab": {
          "base_uri": "https://localhost:8080/"
        },
        "id": "XWip4ASCGVsL",
        "outputId": "b14b6b92-a5b8-4a77-ee60-a15bab213045"
      },
      "execution_count": 53,
      "outputs": [
        {
          "output_type": "execute_result",
          "data": {
            "text/plain": [
              "['0', '9', '7', '11', '10', '8', '3', '6', '1', '12', '2', '4', '5']"
            ]
          },
          "metadata": {},
          "execution_count": 53
        }
      ]
    },
    {
      "cell_type": "code",
      "source": [
        "graph={'Rektor' : {'Warek1', 'Warek2'},\n",
        "       'Warek1' : {'Rektor'},\n",
        "       'Warek2' : {'Rektor','Kaprodi1', 'Kaprodi2','Kaprodi3'},\n",
        "       'Kaprodi1' : {'Warek2','Dosen A','Dosen B','Dosen C'},\n",
        "       'Dosen A' : {'Kaprodi1'},\n",
        "       'Dosen B' : {'Kaprodi1'},\n",
        "       'Dosen C' : {'Kaprodi1'},\n",
        "       'Kaprodi2' : {'Warek2','Dosen D','Dosen E'},\n",
        "       'Dosen D' : {'Kaprodi2'},\n",
        "       'Dosen E' : {'Kaprodi2'},\n",
        "       'Kaprodi3' : {'Warek2','Dosen F','Dosen G'},\n",
        "       'Dosen F': {'Kaprodi3'},\n",
        "       'Dosen G' : {'Kaprodi3'}}\n",
        "\n",
        "dfs(graph, 'Rektor')"
      ],
      "metadata": {
        "colab": {
          "base_uri": "https://localhost:8080/"
        },
        "id": "UkFGVj8jNtK9",
        "outputId": "0c1a2457-18f2-494a-d26b-4a01b2281077"
      },
      "execution_count": 57,
      "outputs": [
        {
          "output_type": "stream",
          "name": "stdout",
          "text": [
            "Rektor\n",
            "Warek1\n",
            "Warek2\n",
            "Kaprodi2\n",
            "Dosen D\n",
            "Dosen E\n",
            "Kaprodi3\n",
            "Dosen F\n",
            "Dosen G\n",
            "Kaprodi1\n",
            "Dosen A\n",
            "Dosen C\n",
            "Dosen B\n"
          ]
        },
        {
          "output_type": "execute_result",
          "data": {
            "text/plain": [
              "{'Dosen A',\n",
              " 'Dosen B',\n",
              " 'Dosen C',\n",
              " 'Dosen D',\n",
              " 'Dosen E',\n",
              " 'Dosen F',\n",
              " 'Dosen G',\n",
              " 'Kaprodi1',\n",
              " 'Kaprodi2',\n",
              " 'Kaprodi3',\n",
              " 'Rektor',\n",
              " 'Warek1',\n",
              " 'Warek2'}"
            ]
          },
          "metadata": {},
          "execution_count": 57
        }
      ]
    }
  ]
}